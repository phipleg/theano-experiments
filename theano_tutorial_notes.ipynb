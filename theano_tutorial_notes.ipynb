{
 "cells": [
  {
   "cell_type": "markdown",
   "metadata": {},
   "source": [
    "# Theano Tutorial Notes\n",
    "\n",
    "Personal notes for the official tutorial [http://deeplearning.net/software/theano/tutorial/](http://deeplearning.net/software/theano/tutorial/)"
   ]
  },
  {
   "cell_type": "code",
   "execution_count": 1,
   "metadata": {
    "collapsed": true
   },
   "outputs": [],
   "source": [
    "import theano\n",
    "import theano.tensor as T\n",
    "from theano import pp\n",
    "import numpy as np\n",
    "\n",
    "import matplotlib.pyplot as plt\n",
    "%matplotlib inline"
   ]
  },
  {
   "cell_type": "code",
   "execution_count": 2,
   "metadata": {
    "collapsed": false
   },
   "outputs": [
    {
     "name": "stdout",
     "output_type": "stream",
     "text": [
      "[1 2 3 4]\n",
      "[1 2 3 4]\n",
      "[[1 2]\n",
      " [3 4]]\n",
      "[1 2 3 4]\n",
      "[ 1.+0.j  2.+0.j  3.+0.j  4.+0.j]\n",
      "[[1 2 3 4]]\n",
      "[[1 2 3]\n",
      " [4 5 6]\n",
      " [7 8 9]]\n",
      "[[1 2]\n",
      " [3 4]]\n"
     ]
    }
   ],
   "source": [
    "# numpy arrays\n",
    "print np.array([1,2,3,4])\n",
    "print np.array([1,2,3,4], copy=False)\n",
    "print np.array([[1,2],[3,4]], copy=False, order='C') # A (default), F (Fortran), C (contiguous)\n",
    "print np.asarray([1,2,3,4])\n",
    "print np.array([1,2,3,4], dtype=complex)\n",
    "print np.array([1,2,3,4], ndmin=2)\n",
    "print np.array([[1,2,3],[4,5,6],[7,8,9]])\n",
    "print np.matrix('1 2; 3 4') # subtype of ndarray (convenience method)"
   ]
  },
  {
   "cell_type": "code",
   "execution_count": 3,
   "metadata": {
    "collapsed": false
   },
   "outputs": [
    {
     "name": "stdout",
     "output_type": "stream",
     "text": [
      "x\n",
      "<TensorType(float32, scalar)>\n",
      "<class 'theano.tensor.var.TensorVariable'>\n",
      "<TensorType(float32, scalar)>\n",
      "[a, b, c, d, e]\n",
      "foo\n"
     ]
    }
   ],
   "source": [
    "# theano types\n",
    "x = T.fscalar('x')\n",
    "print pp(x)\n",
    "print pp(T.fscalar())\n",
    "print type(x)\n",
    "print x.type()\n",
    "print T.fscalars('a','b','c','d','e')\n",
    "print T.fscalar(name='foo')"
   ]
  },
  {
   "cell_type": "code",
   "execution_count": 4,
   "metadata": {
    "collapsed": false
   },
   "outputs": [
    {
     "name": "stdout",
     "output_type": "stream",
     "text": [
      "6.0\n",
      "6.0\n",
      "2.0\n"
     ]
    }
   ],
   "source": [
    "# function & gradient\n",
    "y = 2 * x + 4\n",
    "dy = theano.grad(y,x)\n",
    "y_f = theano.function([x],y)\n",
    "y_f = theano.function(inputs=[x], outputs=y) # same as above\n",
    "dy_f = theano.function([x],dy)\n",
    "print y_f(1)\n",
    "print y.eval({x : 1})\n",
    "print dy_f(1)"
   ]
  },
  {
   "cell_type": "code",
   "execution_count": 5,
   "metadata": {
    "collapsed": false
   },
   "outputs": [
    {
     "data": {
      "text/plain": [
       "array([ 2.,  6.])"
      ]
     },
     "execution_count": 5,
     "metadata": {},
     "output_type": "execute_result"
    }
   ],
   "source": [
    "# matrix & vector\n",
    "A = T.dmatrix('A')\n",
    "x = T.dvector('x')\n",
    "y = A.dot(x)\n",
    "y.eval({A: np.array([[1,2],[3,4]]), x: np.array([2,0])})\n"
   ]
  },
  {
   "cell_type": "code",
   "execution_count": 6,
   "metadata": {
    "collapsed": false
   },
   "outputs": [
    {
     "name": "stdout",
     "output_type": "stream",
     "text": [
      "2.71828182846\n",
      "0.761594155956\n",
      "0.0\n"
     ]
    }
   ],
   "source": [
    "# More functions\n",
    "x = T.scalar('x')\n",
    "print T.exp(x).eval({x:1})\n",
    "print T.tanh(x).eval({x:1})\n",
    "print T.log(x).eval({x:1})"
   ]
  },
  {
   "cell_type": "code",
   "execution_count": 7,
   "metadata": {
    "collapsed": false
   },
   "outputs": [
    {
     "name": "stdout",
     "output_type": "stream",
     "text": [
      "[array(2.718281828459045), array(0.7615941559557649)]\n"
     ]
    }
   ],
   "source": [
    "# computing more at the same time\n",
    "x = T.scalar('x')\n",
    "print theano.function([x], [T.exp(x), T.tanh(x)])(1)"
   ]
  },
  {
   "cell_type": "code",
   "execution_count": 8,
   "metadata": {
    "collapsed": false
   },
   "outputs": [
    {
     "name": "stdout",
     "output_type": "stream",
     "text": [
      "2.0\n",
      "3.0\n",
      "30.0\n",
      "30.0\n"
     ]
    }
   ],
   "source": [
    "# default & named parameters\n",
    "x, y, w = T.scalars('x', 'y', 'w')\n",
    "f = theano.function([x,\n",
    "                     theano.Param(y, default=1), \n",
    "                     theano.Param(w, default=1, name='foo')], \n",
    "                    w*(x+y))\n",
    "print f(1)\n",
    "print f(1, 2)\n",
    "print f(1, 2, 10)\n",
    "print f(1, 2, foo=10)\n"
   ]
  },
  {
   "cell_type": "code",
   "execution_count": 9,
   "metadata": {
    "collapsed": false
   },
   "outputs": [
    {
     "name": "stdout",
     "output_type": "stream",
     "text": [
      "<TensorType(float32, scalar)> 0.0 0.0\n"
     ]
    }
   ],
   "source": [
    "# shared variables\n",
    "s = theano.shared(np.float32(0))\n",
    "print s, s.eval(), s.get_value()"
   ]
  },
  {
   "cell_type": "code",
   "execution_count": 10,
   "metadata": {
    "collapsed": false
   },
   "outputs": [],
   "source": [
    "# function with side effects\n",
    "x = T.fscalar('x')\n",
    "function_of_state = s + x\n",
    "f = theano.function([x], outputs=s, updates=[(s,function_of_state)])"
   ]
  },
  {
   "cell_type": "code",
   "execution_count": 11,
   "metadata": {
    "collapsed": false
   },
   "outputs": [
    {
     "name": "stdout",
     "output_type": "stream",
     "text": [
      "0.0\n",
      "0.0\n",
      "1.0\n",
      "2.0\n"
     ]
    }
   ],
   "source": [
    "# function evaluation returns previous state. state access with #get_value()\n",
    "s.set_value(0)\n",
    "print s.get_value()\n",
    "print f(1)\n",
    "print f(1)\n",
    "print s.get_value()"
   ]
  },
  {
   "cell_type": "code",
   "execution_count": 12,
   "metadata": {
    "collapsed": false
   },
   "outputs": [
    {
     "name": "stdout",
     "output_type": "stream",
     "text": [
      "3.0\n"
     ]
    }
   ],
   "source": [
    "# skip shared variables\n",
    "s_alt = T.fscalar()\n",
    "g = theano.function([x,s_alt], function_of_state, givens=[(s,s_alt)])\n",
    "print g(1,2)"
   ]
  },
  {
   "cell_type": "code",
   "execution_count": null,
   "metadata": {
    "collapsed": true
   },
   "outputs": [],
   "source": []
  }
 ],
 "metadata": {
  "kernelspec": {
   "display_name": "Python 2",
   "language": "python",
   "name": "python2"
  },
  "language_info": {
   "codemirror_mode": {
    "name": "ipython",
    "version": 2
   },
   "file_extension": ".py",
   "mimetype": "text/x-python",
   "name": "python",
   "nbconvert_exporter": "python",
   "pygments_lexer": "ipython2",
   "version": "2.7.11"
  }
 },
 "nbformat": 4,
 "nbformat_minor": 0
}
