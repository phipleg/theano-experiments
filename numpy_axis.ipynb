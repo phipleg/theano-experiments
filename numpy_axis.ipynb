{
 "cells": [
  {
   "cell_type": "markdown",
   "metadata": {},
   "source": [
    "# Numpy axis tutorial"
   ]
  },
  {
   "cell_type": "code",
   "execution_count": 4,
   "metadata": {
    "collapsed": true
   },
   "outputs": [],
   "source": [
    "from __future__ import print_function\n",
    "import numpy as np"
   ]
  },
  {
   "cell_type": "markdown",
   "metadata": {},
   "source": [
    "## Example matrix"
   ]
  },
  {
   "cell_type": "code",
   "execution_count": 7,
   "metadata": {
    "collapsed": false
   },
   "outputs": [
    {
     "name": "stdout",
     "output_type": "stream",
     "text": [
      "Dimension: 3\n",
      "Shape: (3, 4, 2)\n"
     ]
    }
   ],
   "source": [
    "# Though 2-dimensional matrices are simpler, it is best to perform the following operations on a 3d array,\n",
    "# which is not too simple and not too complex.\n",
    "A = np.array([[[1,-1.2],[4,-9],[7,-6],[10,-3]],\n",
    "              [[2,-11],[50,-8],[8,-5],[11,-2]],\n",
    "              [[3,-10],[6,-70],[0.9,-4],[12,-1]]])\n",
    "print('Dimension:', A.ndim)\n",
    "print('Shape:',A.shape)"
   ]
  },
  {
   "cell_type": "code",
   "execution_count": 10,
   "metadata": {
    "collapsed": false
   },
   "outputs": [
    {
     "name": "stdout",
     "output_type": "stream",
     "text": [
      "Matrix A:\n",
      "[[[  1.   -1.2]\n",
      "  [  4.   -9. ]\n",
      "  [  7.   -6. ]\n",
      "  [ 10.   -3. ]]\n",
      "\n",
      " [[  2.  -11. ]\n",
      "  [ 50.   -8. ]\n",
      "  [  8.   -5. ]\n",
      "  [ 11.   -2. ]]\n",
      "\n",
      " [[  3.  -10. ]\n",
      "  [  6.  -70. ]\n",
      "  [  0.9  -4. ]\n",
      "  [ 12.   -1. ]]]\n"
     ]
    }
   ],
   "source": [
    "print('Matrix A:')\n",
    "print(A)"
   ]
  },
  {
   "cell_type": "markdown",
   "metadata": {},
   "source": [
    "## np.newaxis"
   ]
  },
  {
   "cell_type": "code",
   "execution_count": 9,
   "metadata": {
    "collapsed": false
   },
   "outputs": [
    {
     "name": "stdout",
     "output_type": "stream",
     "text": [
      "(3, 4, 2)\n",
      "(1, 3, 4, 2)\n",
      "(1, 3, 4, 2)\n",
      "(1, 3, 1, 4, 2)\n",
      "[[[[  1. ]\n",
      "   [ -1.2]]\n",
      "\n",
      "  [[  4. ]\n",
      "   [ -9. ]]\n",
      "\n",
      "  [[  7. ]\n",
      "   [ -6. ]]\n",
      "\n",
      "  [[ 10. ]\n",
      "   [ -3. ]]]\n",
      "\n",
      "\n",
      " [[[  2. ]\n",
      "   [-11. ]]\n",
      "\n",
      "  [[ 50. ]\n",
      "   [ -8. ]]\n",
      "\n",
      "  [[  8. ]\n",
      "   [ -5. ]]\n",
      "\n",
      "  [[ 11. ]\n",
      "   [ -2. ]]]\n",
      "\n",
      "\n",
      " [[[  3. ]\n",
      "   [-10. ]]\n",
      "\n",
      "  [[  6. ]\n",
      "   [-70. ]]\n",
      "\n",
      "  [[  0.9]\n",
      "   [ -4. ]]\n",
      "\n",
      "  [[ 12. ]\n",
      "   [ -1. ]]]]\n"
     ]
    }
   ],
   "source": [
    "print(A.shape)\n",
    "print(A[np.newaxis].shape)\n",
    "print(A[np.newaxis,:,:,:].shape)\n",
    "print(A[np.newaxis,:,np.newaxis,:,:].shape)\n",
    "print(A[:,:,:,np.newaxis])"
   ]
  },
  {
   "cell_type": "markdown",
   "metadata": {},
   "source": [
    "## Reducing along an axis, for example by using max"
   ]
  },
  {
   "cell_type": "code",
   "execution_count": 16,
   "metadata": {
    "collapsed": false
   },
   "outputs": [
    {
     "name": "stdout",
     "output_type": "stream",
     "text": [
      "Maximum over all elements:\n",
      " 50.0\n"
     ]
    }
   ],
   "source": [
    "print('Maximum over all elements:\\n', A.max())"
   ]
  },
  {
   "cell_type": "code",
   "execution_count": 21,
   "metadata": {
    "collapsed": false
   },
   "outputs": [
    {
     "name": "stdout",
     "output_type": "stream",
     "text": [
      "Maximum along first axis: B =\n",
      " [[  3.   -1.2]\n",
      " [ 50.   -8. ]\n",
      " [  8.   -4. ]\n",
      " [ 12.   -1. ]]\n",
      "A.shape:  (3, 4, 2)\n",
      "B.shape:  (4, 2)\n"
     ]
    }
   ],
   "source": [
    "# Let's start with the first dimension \n",
    "B = A.max(axis=0)\n",
    "print('Maximum along first axis: B =\\n', B)\n",
    "print('A.shape: ', A.shape)\n",
    "print('B.shape: ', B.shape)"
   ]
  },
  {
   "cell_type": "code",
   "execution_count": 22,
   "metadata": {
    "collapsed": false
   },
   "outputs": [],
   "source": [
    "for j, k in zip(range(A.shape[1]), range(A.shape[2])):\n",
    "    assert B[j,k] == max(A[i,j,k] for i in range(A.shape[0]))"
   ]
  },
  {
   "cell_type": "code",
   "execution_count": 23,
   "metadata": {
    "collapsed": false
   },
   "outputs": [
    {
     "name": "stdout",
     "output_type": "stream",
     "text": [
      "(3, 2)\n",
      "[[ 10.   -1.2]\n",
      " [ 50.   -2. ]\n",
      " [ 12.   -1. ]]\n"
     ]
    }
   ],
   "source": [
    "# second dimension\n",
    "B = A.max(axis=1)\n",
    "print(B.shape)\n",
    "print(B)"
   ]
  },
  {
   "cell_type": "code",
   "execution_count": 24,
   "metadata": {
    "collapsed": false
   },
   "outputs": [
    {
     "name": "stdout",
     "output_type": "stream",
     "text": [
      "(3, 4)\n",
      "[[  1.    4.    7.   10. ]\n",
      " [  2.   50.    8.   11. ]\n",
      " [  3.    6.    0.9  12. ]]\n"
     ]
    }
   ],
   "source": [
    "# third and last dimension \n",
    "B = A.max(axis=2)\n",
    "print(B.shape)\n",
    "print(B)"
   ]
  },
  {
   "cell_type": "markdown",
   "metadata": {},
   "source": [
    "## Broadcasting"
   ]
  },
  {
   "cell_type": "code",
   "execution_count": 29,
   "metadata": {
    "collapsed": false
   },
   "outputs": [
    {
     "name": "stdout",
     "output_type": "stream",
     "text": [
      "operands could not be broadcast together with shapes (3,4,2) (3,2) \n"
     ]
    }
   ],
   "source": [
    "try:\n",
    "    A - A.max(axis=1)\n",
    "except ValueError as e:\n",
    "    print(e)"
   ]
  },
  {
   "cell_type": "code",
   "execution_count": 30,
   "metadata": {
    "collapsed": false
   },
   "outputs": [
    {
     "name": "stdout",
     "output_type": "stream",
     "text": [
      "(3, 1, 2)\n",
      "[[[ 10.   -1.2]]\n",
      "\n",
      " [[ 50.   -2. ]]\n",
      "\n",
      " [[ 12.   -1. ]]]\n"
     ]
    }
   ],
   "source": [
    "# The solution is to keep the specified axis in the result tensor but with a length 1 component.\n",
    "# For that you need to use the more general numpy.amax function and set the parameter keepdims=True.\n",
    "B = np.amax(A, axis=1, keepdims=True)\n",
    "print(B.shape)\n",
    "print(B)"
   ]
  },
  {
   "cell_type": "code",
   "execution_count": 32,
   "metadata": {
    "collapsed": false
   },
   "outputs": [
    {
     "name": "stdout",
     "output_type": "stream",
     "text": [
      "[[[ -9.    0. ]\n",
      "  [ -6.   -7.8]\n",
      "  [ -3.   -4.8]\n",
      "  [  0.   -1.8]]\n",
      "\n",
      " [[-48.   -9. ]\n",
      "  [  0.   -6. ]\n",
      "  [-42.   -3. ]\n",
      "  [-39.    0. ]]\n",
      "\n",
      " [[ -9.   -9. ]\n",
      "  [ -6.  -69. ]\n",
      "  [-11.1  -3. ]\n",
      "  [  0.    0. ]]]\n",
      "[[ 0.  0.]\n",
      " [ 0.  0.]\n",
      " [ 0.  0.]]\n"
     ]
    }
   ],
   "source": [
    "# Now broadcasting is easy\n",
    "print(A-B)\n",
    "print((A - B).max(axis=1))"
   ]
  },
  {
   "cell_type": "code",
   "execution_count": 33,
   "metadata": {
    "collapsed": false
   },
   "outputs": [
    {
     "data": {
      "text/plain": [
       "array([[ 0.,  0.],\n",
       "       [ 0.,  0.],\n",
       "       [ 0.,  0.]])"
      ]
     },
     "execution_count": 33,
     "metadata": {},
     "output_type": "execute_result"
    }
   ],
   "source": [
    "# By the way, amax is much more general and should be prefered, I think\n",
    "np.amax(A - B, axis=1)"
   ]
  },
  {
   "cell_type": "code",
   "execution_count": 34,
   "metadata": {
    "collapsed": false
   },
   "outputs": [
    {
     "data": {
      "text/plain": [
       "array([ 50.,  -1.])"
      ]
     },
     "execution_count": 34,
     "metadata": {},
     "output_type": "execute_result"
    }
   ],
   "source": [
    "# For examples, just keep the the last dimension fixed, and calc the max over the first and second dimension\n",
    "np.amax(A, axis=(0,1))"
   ]
  },
  {
   "cell_type": "code",
   "execution_count": null,
   "metadata": {
    "collapsed": true
   },
   "outputs": [],
   "source": []
  }
 ],
 "metadata": {
  "kernelspec": {
   "display_name": "Python 2",
   "language": "python",
   "name": "python2"
  },
  "language_info": {
   "codemirror_mode": {
    "name": "ipython",
    "version": 2
   },
   "file_extension": ".py",
   "mimetype": "text/x-python",
   "name": "python",
   "nbconvert_exporter": "python",
   "pygments_lexer": "ipython2",
   "version": "2.7.11"
  }
 },
 "nbformat": 4,
 "nbformat_minor": 0
}
