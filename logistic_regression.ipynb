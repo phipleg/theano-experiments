{
 "cells": [
  {
   "cell_type": "code",
   "execution_count": null,
   "metadata": {
    "collapsed": false
   },
   "outputs": [],
   "source": [
    "import numpy as np\n",
    "from sklearn import datasets\n",
    "import theano\n",
    "import theano.tensor as T\n",
    "import matplotlib.pyplot as plt\n",
    "import matplotlib\n",
    "\n",
    "# Use float32 as the default float data type\n",
    "theano.config.floatX = 'float32'\n",
    "# Display plots inline and change default figure size\n",
    "%matplotlib inline\n",
    "matplotlib.rcParams['figure.figsize'] = (5.0, 4.0)"
   ]
  },
  {
   "cell_type": "code",
   "execution_count": null,
   "metadata": {
    "collapsed": false
   },
   "outputs": [],
   "source": [
    "n_samples = 100\n",
    "n_features = 2\n",
    "n_classes = 3\n",
    "train_X, train_y = datasets.make_classification(n_samples=n_samples,\n",
    "                                                n_features=n_features,\n",
    "                                                n_redundant=0,\n",
    "                                                n_informative=2,                             \n",
    "                                                n_clusters_per_class=1, \n",
    "                                                n_classes=n_classes)\n",
    "train_y_onehot = np.eye(n_classes)[train_y]\n",
    "plt.scatter(train_X[:, 0], train_X[:, 1], marker='o', c=train_y)"
   ]
  },
  {
   "cell_type": "code",
   "execution_count": null,
   "metadata": {
    "collapsed": false
   },
   "outputs": [],
   "source": [
    "# Define model\n",
    "X = theano.shared(train_X.astype('float32'))\n",
    "y = theano.shared(train_y_onehot.astype('float32'))\n",
    "\n",
    "W = theano.shared(np.random.randn(n_features, n_classes).astype('float32'), name='W')\n",
    "b = theano.shared(np.zeros(n_classes).astype('float32'), name='b')\n",
    "\n",
    "z = X.dot(W) + b\n",
    "y_hat = T.nnet.softmax(z)\n",
    "prediction = T.argmax(y_hat, axis=1)\n",
    "\n",
    "reg_lambda = np.float32(0.01)\n",
    "loss1 = T.nnet.categorical_crossentropy(y_hat, y).mean() # use cross-entropy loss for softmax classification\n",
    "loss2 = reg_lambda/2.0 * T.sum(T.sqr(W)).mean() # add L2-regularization\n",
    "loss = loss1 + loss2"
   ]
  },
  {
   "cell_type": "code",
   "execution_count": null,
   "metadata": {
    "collapsed": true
   },
   "outputs": [],
   "source": [
    "# Gradient descent\n",
    "dW = T.grad(loss, W)\n",
    "db = T.grad(loss, b)\n",
    "\n",
    "epsilon = np.float32(0.01)\n",
    "gradient_step = theano.function([],\n",
    "                                updates=((W, W - epsilon * dW),\n",
    "                                         (b, b - epsilon * db)))\n",
    "\n",
    "# Define loss function in order to access shared variable\n",
    "f_loss = theano.function([], loss)"
   ]
  },
  {
   "cell_type": "code",
   "execution_count": null,
   "metadata": {
    "collapsed": false
   },
   "outputs": [],
   "source": [
    "# build model\n",
    "n_epochs = 1000\n",
    "for i in xrange(n_epochs):\n",
    "    gradient_step()\n",
    "    if i % 100 == 0:\n",
    "        print i, 'loss=',f_loss()"
   ]
  },
  {
   "cell_type": "code",
   "execution_count": null,
   "metadata": {
    "collapsed": false
   },
   "outputs": [],
   "source": [
    "f_prediction = theano.function([], prediction, allow_input_downcast=True)"
   ]
  },
  {
   "cell_type": "code",
   "execution_count": null,
   "metadata": {
    "collapsed": false
   },
   "outputs": [],
   "source": [
    "y_pred = f_prediction()\n",
    "plt.title(\"Predictions\")\n",
    "plt.scatter(train_X[:, 0], train_X[:, 1], marker='o', c=y_pred)"
   ]
  },
  {
   "cell_type": "code",
   "execution_count": null,
   "metadata": {
    "collapsed": false
   },
   "outputs": [],
   "source": [
    "error = np.mean(np.abs(np.sign(train_y-y_pred)))"
   ]
  },
  {
   "cell_type": "code",
   "execution_count": null,
   "metadata": {
    "collapsed": false
   },
   "outputs": [],
   "source": [
    "print 'Mean error: ', error"
   ]
  }
 ],
 "metadata": {
  "kernelspec": {
   "display_name": "Python 2",
   "language": "python",
   "name": "python2"
  },
  "language_info": {
   "codemirror_mode": {
    "name": "ipython",
    "version": 2
   },
   "file_extension": ".py",
   "mimetype": "text/x-python",
   "name": "python",
   "nbconvert_exporter": "python",
   "pygments_lexer": "ipython2",
   "version": "2.7.11"
  }
 },
 "nbformat": 4,
 "nbformat_minor": 0
}
