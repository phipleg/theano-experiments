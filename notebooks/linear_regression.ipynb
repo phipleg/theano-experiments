{
 "cells": [
  {
   "cell_type": "code",
   "execution_count": 1,
   "metadata": {
    "collapsed": false
   },
   "outputs": [
    {
     "name": "stdout",
     "output_type": "stream",
     "text": [
      "Couldn't import dot_parser, loading of dot files will not be possible.\n"
     ]
    },
    {
     "name": "stderr",
     "output_type": "stream",
     "text": [
      "/Users/philippgross/anaconda/lib/python2.7/site-packages/matplotlib/__init__.py:872: UserWarning: axes.color_cycle is deprecated and replaced with axes.prop_cycle; please use the latter.\n",
      "  warnings.warn(self.msg_depr % (key, alt_key))\n"
     ]
    }
   ],
   "source": [
    "import numpy as np\n",
    "from sklearn import datasets\n",
    "import theano\n",
    "import theano.tensor as T\n",
    "import matplotlib.pyplot as plt\n",
    "import matplotlib\n",
    "import seaborn as sns\n",
    "\n",
    "theano.config.floatX = 'float32'\n",
    "\n",
    "%matplotlib inline"
   ]
  },
  {
   "cell_type": "code",
   "execution_count": 2,
   "metadata": {
    "collapsed": false
   },
   "outputs": [
    {
     "data": {
      "image/png": "[encoded data removed]",
      "text/plain": [
       "<matplotlib.figure.Figure at 0x105ad0c50>"
      ]
     },
     "metadata": {},
     "output_type": "display_data"
    }
   ],
   "source": [
    "# Create data\n",
    "n_samples = 100\n",
    "n_features = 1\n",
    "n_out_dim = 1\n",
    "true_bias = 100\n",
    "train_X, train_y, true_coef = datasets.make_regression(n_samples=n_samples,\n",
    "                                                  n_features=n_features, \n",
    "                                                  n_targets=n_out_dim,\n",
    "                                                  n_informative=1,\n",
    "                                                  noise=10,\n",
    "                                                  bias=true_bias,\n",
    "                                                  coef=True,\n",
    "                                                  random_state=0)\n",
    "# convert array to 1-dim matrix\n",
    "train_y = train_y.reshape(n_samples,1)\n",
    "\n",
    "# plot data\n",
    "fig, ax = plt.subplots(figsize=(10, 6))\n",
    "ax.set_title('Synthetic data for linear regression of 2-dim points')\n",
    "ax.scatter(train_X, train_y, color='blue')\n",
    "plt.show()"
   ]
  },
  {
   "cell_type": "code",
   "execution_count": 3,
   "metadata": {
    "collapsed": true
   },
   "outputs": [],
   "source": [
    "# Define model\n",
    "X = theano.shared(train_X.astype('float32'))\n",
    "y = theano.shared(train_y.astype('float32'))\n",
    "\n",
    "a = theano.shared(np.random.randn(n_features, n_out_dim).astype('float32'), name='a')\n",
    "b = theano.shared(np.zeros(n_out_dim).astype('float32'), name='b')\n",
    "\n",
    "y_hat = X.dot(a) + b\n",
    "loss = T.mean(T.sqr(y-y_hat))"
   ]
  },
  {
   "cell_type": "code",
   "execution_count": 4,
   "metadata": {
    "collapsed": false
   },
   "outputs": [],
   "source": [
    "# Setup gradient descent\n",
    "da = T.grad(loss, a)\n",
    "db = T.grad(loss, b)\n",
    "\n",
    "epsilon = np.float32(0.01)\n",
    "gradient_step = theano.function([], \n",
    "                                updates=((a, a - epsilon*da),\n",
    "                                         (b, b - epsilon*db)))\n",
    "\n",
    "# define functions in order to access shared variables\n",
    "f_loss = theano.function([], loss)\n",
    "f_y_hat = theano.function([], y_hat)"
   ]
  },
  {
   "cell_type": "code",
   "execution_count": 5,
   "metadata": {
    "collapsed": false
   },
   "outputs": [
    {
     "name": "stdout",
     "output_type": "stream",
     "text": [
      "0 loss= 11680.1289062\n",
      "100 loss= 285.185302734\n",
      "200 loss= 116.826019287\n",
      "300 loss= 114.215118408\n",
      "400 loss= 114.172233582\n"
     ]
    }
   ],
   "source": [
    "# build model\n",
    "n_epochs = 500\n",
    "import timeit\n",
    "for i in xrange(n_epochs):\n",
    "    gradient_step()\n",
    "    if i % 100 == 0:\n",
    "        print i, 'loss=',f_loss()"
   ]
  },
  {
   "cell_type": "code",
   "execution_count": 6,
   "metadata": {
    "collapsed": false
   },
   "outputs": [
    {
     "data": {
      "image/png": "[encoded data removed]",
      "text/plain": [
       "<matplotlib.figure.Figure at 0x110dbaa90>"
      ]
     },
     "metadata": {},
     "output_type": "display_data"
    }
   ],
   "source": [
    "# plot output\n",
    "fig, ax = plt.subplots(figsize=(10, 6))\n",
    "ax.set_title('Linear fit')\n",
    "ax.scatter(train_X, train_y,  color='b', label='2-dimensional data')\n",
    "ax.plot(train_X, f_y_hat(), color='r', label='linear fit')\n",
    "ax.legend()\n",
    "plt.show()"
   ]
  },
  {
   "cell_type": "code",
   "execution_count": 7,
   "metadata": {
    "collapsed": false
   },
   "outputs": [
    {
     "name": "stdout",
     "output_type": "stream",
     "text": [
      "Model coefficients: a=42.6201553345, b=99.1820144653\n",
      "True coefficients:  a=42.3855048558, b=100\n"
     ]
    }
   ],
   "source": [
    "# Compare learned parameters a, b with those used for data generation\n",
    "f_a = theano.function([], a)\n",
    "f_b = theano.function([], b)\n",
    "print 'Model coefficients: a={}, b={}'.format(f_a()[0][0], f_b()[0])\n",
    "print 'True coefficients:  a={}, b={}'.format(true_coef, true_bias)"
   ]
  }
 ],
 "metadata": {
  "kernelspec": {
   "display_name": "Python 2",
   "language": "python",
   "name": "python2"
  },
  "language_info": {
   "codemirror_mode": {
    "name": "ipython",
    "version": 2
   },
   "file_extension": ".py",
   "mimetype": "text/x-python",
   "name": "python",
   "nbconvert_exporter": "python",
   "pygments_lexer": "ipython2",
   "version": "2.7.11"
  }
 },
 "nbformat": 4,
 "nbformat_minor": 0
}
