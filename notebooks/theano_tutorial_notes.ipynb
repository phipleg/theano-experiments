{
 "cells": [
  {
   "cell_type": "markdown",
   "metadata": {},
   "source": [
    "# Theano Tutorial Notes\n",
    "\n",
    "Personal notes for the official tutorial [http://deeplearning.net/software/theano/tutorial/](http://deeplearning.net/software/theano/tutorial/)"
   ]
  },
  {
   "cell_type": "code",
   "execution_count": 1,
   "metadata": {
    "collapsed": true
   },
   "outputs": [],
   "source": [
    "import theano\n",
    "import theano.tensor as T\n",
    "from theano import pp\n",
    "import numpy as np\n",
    "\n",
    "import matplotlib.pyplot as plt\n",
    "%matplotlib inline"
   ]
  },
  {
   "cell_type": "code",
   "execution_count": 2,
   "metadata": {
    "collapsed": false
   },
   "outputs": [
    {
     "name": "stdout",
     "output_type": "stream",
     "text": [
      "[1 2 3 4]\n",
      "[1 2 3 4]\n",
      "[[1 2]\n",
      " [3 4]]\n",
      "[1 2 3 4]\n",
      "[ 1.+0.j  2.+0.j  3.+0.j  4.+0.j]\n",
      "[[1 2 3 4]]\n",
      "[[1 2 3]\n",
      " [4 5 6]\n",
      " [7 8 9]]\n",
      "[[1 2]\n",
      " [3 4]]\n"
     ]
    }
   ],
   "source": [
    "# numpy arrays\n",
    "print np.array([1,2,3,4])\n",
    "print np.array([1,2,3,4], copy=False)\n",
    "print np.array([[1,2],[3,4]], copy=False, order='C') # A (default), F (Fortran), C (contiguous)\n",
    "print np.asarray([1,2,3,4])\n",
    "print np.array([1,2,3,4], dtype=complex)\n",
    "print np.array([1,2,3,4], ndmin=2)\n",
    "print np.array([[1,2,3],[4,5,6],[7,8,9]])\n",
    "print np.matrix('1 2; 3 4') # subtype of ndarray (convenience method)"
   ]
  },
  {
   "cell_type": "code",
   "execution_count": 3,
   "metadata": {
    "collapsed": false
   },
   "outputs": [
    {
     "name": "stdout",
     "output_type": "stream",
     "text": [
      "x\n",
      "<TensorType(float32, scalar)>\n",
      "<class 'theano.tensor.var.TensorVariable'>\n",
      "<TensorType(float32, scalar)>\n",
      "[a, b, c, d, e]\n",
      "foo\n"
     ]
    }
   ],
   "source": [
    "# theano types\n",
    "x = T.fscalar('x')\n",
    "print pp(x)\n",
    "print pp(T.fscalar())\n",
    "print type(x)\n",
    "print x.type()\n",
    "print T.fscalars('a','b','c','d','e')\n",
    "print T.fscalar(name='foo')"
   ]
  },
  {
   "cell_type": "code",
   "execution_count": 4,
   "metadata": {
    "collapsed": false
   },
   "outputs": [
    {
     "name": "stdout",
     "output_type": "stream",
     "text": [
      "6.0\n",
      "6.0\n",
      "2.0\n"
     ]
    }
   ],
   "source": [
    "# function & gradient\n",
    "y = 2 * x + 4\n",
    "dy = theano.grad(y,x)\n",
    "y_f = theano.function([x],y)\n",
    "y_f = theano.function(inputs=[x], outputs=y) # same as above\n",
    "dy_f = theano.function([x],dy)\n",
    "print y_f(1)\n",
    "print y.eval({x : 1})\n",
    "print dy_f(1)"
   ]
  },
  {
   "cell_type": "code",
   "execution_count": 5,
   "metadata": {
    "collapsed": false
   },
   "outputs": [
    {
     "data": {
      "text/plain": [
       "array([ 2.,  6.])"
      ]
     },
     "execution_count": 5,
     "metadata": {},
     "output_type": "execute_result"
    }
   ],
   "source": [
    "# matrix & vector\n",
    "A = T.dmatrix('A')\n",
    "x = T.dvector('x')\n",
    "y = A.dot(x)\n",
    "y.eval({A: np.array([[1,2],[3,4]]), x: np.array([2,0])})\n"
   ]
  },
  {
   "cell_type": "code",
   "execution_count": 6,
   "metadata": {
    "collapsed": false
   },
   "outputs": [
    {
     "name": "stdout",
     "output_type": "stream",
     "text": [
      "2.71828182846\n",
      "0.761594155956\n",
      "0.0\n"
     ]
    }
   ],
   "source": [
    "# More functions\n",
    "x = T.scalar('x')\n",
    "print T.exp(x).eval({x:1})\n",
    "print T.tanh(x).eval({x:1})\n",
    "print T.log(x).eval({x:1})"
   ]
  },
  {
   "cell_type": "code",
   "execution_count": 7,
   "metadata": {
    "collapsed": false
   },
   "outputs": [
    {
     "name": "stdout",
     "output_type": "stream",
     "text": [
      "[array(2.718281828459045), array(0.7615941559557649)]\n"
     ]
    }
   ],
   "source": [
    "# computing more at the same time\n",
    "x = T.scalar('x')\n",
    "print theano.function([x], [T.exp(x), T.tanh(x)])(1)"
   ]
  },
  {
   "cell_type": "code",
   "execution_count": 8,
   "metadata": {
    "collapsed": false
   },
   "outputs": [
    {
     "name": "stdout",
     "output_type": "stream",
     "text": [
      "2.0\n",
      "3.0\n",
      "30.0\n",
      "30.0\n"
     ]
    }
   ],
   "source": [
    "# default & named parameters\n",
    "x, y, w = T.scalars('x', 'y', 'w')\n",
    "f = theano.function([x,\n",
    "                     theano.Param(y, default=1), \n",
    "                     theano.Param(w, default=1, name='foo')], \n",
    "                    w*(x+y))\n",
    "print f(1)\n",
    "print f(1, 2)\n",
    "print f(1, 2, 10)\n",
    "print f(1, 2, foo=10)\n"
   ]
  },
  {
   "cell_type": "code",
   "execution_count": 9,
   "metadata": {
    "collapsed": false
   },
   "outputs": [
    {
     "name": "stdout",
     "output_type": "stream",
     "text": [
      "<TensorType(float32, scalar)> 0.0 0.0\n"
     ]
    }
   ],
   "source": [
    "# shared variables\n",
    "s = theano.shared(np.float32(0))\n",
    "print s, s.eval(), s.get_value()"
   ]
  },
  {
   "cell_type": "code",
   "execution_count": 10,
   "metadata": {
    "collapsed": false
   },
   "outputs": [],
   "source": [
    "# function with side effects\n",
    "x = T.fscalar('x')\n",
    "function_of_state = s + x\n",
    "f = theano.function([x], outputs=s, updates=[(s,function_of_state)])"
   ]
  },
  {
   "cell_type": "code",
   "execution_count": 11,
   "metadata": {
    "collapsed": false
   },
   "outputs": [
    {
     "name": "stdout",
     "output_type": "stream",
     "text": [
      "0.0\n",
      "0.0\n",
      "1.0\n",
      "2.0\n"
     ]
    }
   ],
   "source": [
    "# function evaluation returns previous state. state access with #get_value()\n",
    "s.set_value(0)\n",
    "print s.get_value()\n",
    "print f(1)\n",
    "print f(1)\n",
    "print s.get_value()"
   ]
  },
  {
   "cell_type": "code",
   "execution_count": 12,
   "metadata": {
    "collapsed": false
   },
   "outputs": [
    {
     "name": "stdout",
     "output_type": "stream",
     "text": [
      "3.0\n"
     ]
    }
   ],
   "source": [
    "# skip shared variables\n",
    "s_alt = T.fscalar()\n",
    "g = theano.function([x,s_alt], function_of_state, givens=[(s,s_alt)])\n",
    "print g(1,2)"
   ]
  },
  {
   "cell_type": "code",
   "execution_count": 72,
   "metadata": {
    "collapsed": false
   },
   "outputs": [
    {
     "name": "stdout",
     "output_type": "stream",
     "text": [
      "[[ 1.  1.]\n",
      " [ 2.  1.]\n",
      " [ 3.  2.]\n",
      " [ 5.  3.]]\n",
      "[[ 1.  1.]\n",
      " [ 2.  1.]\n",
      " [ 3.  2.]\n",
      " [ 5.  3.]]\n"
     ]
    }
   ],
   "source": [
    "# Generating sequences\n",
    "\n",
    "# compute recursive function: x_{t+1} = x_t.dot([[1,1],[1,0]]) with x0=[1,0]\n",
    "\n",
    "# numpy \n",
    "a = np.array([[1,1],[1,0]], dtype=theano.config.floatX)\n",
    "n = 4\n",
    "x0 = np.array([1,0], dtype=theano.config.floatX)\n",
    "\n",
    "def fibonacci_numpy(X0,A,N):\n",
    "    X = np.zeros((n, 2), dtype=theano.config.floatX)\n",
    "    prev = X0\n",
    "    for i in range(0,N):\n",
    "        X[i] = prev.dot(A)\n",
    "        prev = X[i]\n",
    "    return X\n",
    "\n",
    "print fibonacci_numpy(x0,a,n)\n",
    "\n",
    "\n",
    "# theano \n",
    "X = T.vector('X')\n",
    "A = T.matrix('A')\n",
    "N = T.iscalar('N')\n",
    "result, updates = theano.scan(lambda x_tm1, A_t: x_tm1.dot(A_t),\n",
    "                              outputs_info=[X], # initialization\n",
    "                              non_sequences=A, # put non sequence items here for optimizing memory access of A\n",
    "                               n_steps=N)\n",
    "fibonacci_theano = theano.function(inputs=[X,A,N], outputs=result, updates=updates)\n",
    "\n",
    "print fibonacci_theano(x0,a,n)"
   ]
  },
  {
   "cell_type": "code",
   "execution_count": 90,
   "metadata": {
    "collapsed": false
   },
   "outputs": [
    {
     "name": "stdout",
     "output_type": "stream",
     "text": [
      "[   1.    4.    9.   16.   25.   36.   49.   64.   81.  100.]\n",
      "[   1.    4.    9.   16.   25.   36.   49.   64.   81.  100.]\n"
     ]
    }
   ],
   "source": [
    "# Mapping sequences to sequences (no sideeffects)\n",
    "x = np.arange(1,11, dtype=theano.config.floatX)\n",
    "print x**2\n",
    "X = T.vector('X')\n",
    "result, updates = theano.scan(lambda x_tm1: x_tm1**2,\n",
    "                              sequences=X)\n",
    "f = theano.function(inputs=[X], outputs=result, updates=updates)\n",
    "print f(x)"
   ]
  },
  {
   "cell_type": "code",
   "execution_count": 91,
   "metadata": {
    "collapsed": false
   },
   "outputs": [
    {
     "name": "stdout",
     "output_type": "stream",
     "text": [
      "385.0\n",
      "385.0\n"
     ]
    }
   ],
   "source": [
    "# Mapping sequences to sequences (no sideeffects) and accumulate\n",
    "x = np.arange(1,11, dtype=theano.config.floatX)\n",
    "print np.sum(x**2)\n",
    "X = T.vector('X')\n",
    "result, updates = theano.scan(lambda x_tm1: x_tm1**2,\n",
    "                              sequences=X)\n",
    "f = theano.function(inputs=[X], outputs=result.sum(), updates=updates)\n",
    "print f(x)"
   ]
  },
  {
   "cell_type": "code",
   "execution_count": 95,
   "metadata": {
    "collapsed": false
   },
   "outputs": [
    {
     "name": "stdout",
     "output_type": "stream",
     "text": [
      "[[  2.   4.]\n",
      " [  6.   8.]\n",
      " [ 10.  12.]\n",
      " [ 14.  16.]\n",
      " [ 18.  20.]]\n",
      "[[  2.   4.]\n",
      " [  6.   8.]\n",
      " [ 10.  12.]\n",
      " [ 14.  16.]\n",
      " [ 18.  20.]]\n"
     ]
    }
   ],
   "source": [
    "# Mapping sequences to sequences with shared variable\n",
    "x = np.arange(1,11, dtype=theano.config.floatX).reshape(5,2)\n",
    "print x * 2\n",
    "X = T.matrix('X')\n",
    "A = theano.shared(2*np.eye(2))\n",
    "result, updates = theano.scan(lambda x_tm1, A_t: x_tm1.dot(A_t),\n",
    "                              sequences=X,\n",
    "                              non_sequences=A)\n",
    "f = theano.function(inputs=[X], outputs=result, updates=updates)\n",
    "print f(x)"
   ]
  },
  {
   "cell_type": "code",
   "execution_count": 109,
   "metadata": {
    "collapsed": false
   },
   "outputs": [
    {
     "name": "stdout",
     "output_type": "stream",
     "text": [
      "[[  1.01369532   2.00094874]\n",
      " [  2.99101545   3.99925445]\n",
      " [  4.99999175   6.01572802]\n",
      " [  7.01620135   7.99215864]\n",
      " [  9.01413549  10.01187349]] [[  2.02737478   3.99988745]\n",
      " [  5.97583899   7.98836623]\n",
      " [  9.99072336  12.03666211]\n",
      " [ 14.0464243   15.98242209]\n",
      " [ 18.03866795  20.02779045]]\n",
      "-0.000415230225648\n",
      "[[  2.22767021   3.59648528]\n",
      " [  4.54811112   7.68616266]\n",
      " [  6.89100542  11.82008057]\n",
      " [  9.19204923  15.8962263 ]\n",
      " [ 11.53729394  20.02942472]]\n"
     ]
    }
   ],
   "source": [
    "# Mapping sequences to sequences with shared variable and reduce\n",
    "x = np.arange(1,11, dtype=theano.config.floatX).reshape(5,2) + np.random.randn(5,2) * 0.01\n",
    "y = 2*x + np.random.randn(5,2) * 0.01\n",
    "print x,y\n",
    "print np.mean(2*x-y)\n",
    "\n",
    "X = T.matrix('X')\n",
    "A = theano.shared()\n",
    "result, updates = theano.scan(lambda x_tm1, A_t: x_tm1.dot(A_t),\n",
    "                              sequences=X,\n",
    "                              non_sequences=A)\n",
    "f = theano.function(inputs=[X], outputs=result, updates=updates)\n",
    "print f(x)"
   ]
  },
  {
   "cell_type": "code",
   "execution_count": null,
   "metadata": {
    "collapsed": true
   },
   "outputs": [],
   "source": []
  }
 ],
 "metadata": {
  "kernelspec": {
   "display_name": "Python 2",
   "language": "python",
   "name": "python2"
  },
  "language_info": {
   "codemirror_mode": {
    "name": "ipython",
    "version": 2
   },
   "file_extension": ".py",
   "mimetype": "text/x-python",
   "name": "python",
   "nbconvert_exporter": "python",
   "pygments_lexer": "ipython2",
   "version": "2.7.11"
  }
 },
 "nbformat": 4,
 "nbformat_minor": 0
}
