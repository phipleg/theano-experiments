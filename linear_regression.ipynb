{
 "cells": [
  {
   "cell_type": "code",
   "execution_count": 12,
   "metadata": {
    "collapsed": false
   },
   "outputs": [],
   "source": [
    "import numpy as np\n",
    "from sklearn import datasets\n",
    "import theano\n",
    "import theano.tensor as T\n",
    "import matplotlib.pyplot as plt\n",
    "import matplotlib\n",
    "\n",
    "# Use float32 as the default float data type\n",
    "theano.config.floatX = 'float32'\n",
    "# Display plots inline and change default figure size\n",
    "%matplotlib inline\n",
    "matplotlib.rcParams['figure.figsize'] = (5.0, 4.0)"
   ]
  },
  {
   "cell_type": "code",
   "execution_count": 13,
   "metadata": {
    "collapsed": false
   },
   "outputs": [
    {
     "data": {
      "text/plain": [
       "<matplotlib.collections.PathCollection at 0x7f539e84bc10>"
      ]
     },
     "execution_count": 13,
     "metadata": {},
     "output_type": "execute_result"
    },
    {
     "data": {
      "image/png": "[encoded data removed]",
      "text/plain": [
       "<matplotlib.figure.Figure at 0x7f5396a1d910>"
      ]
     },
     "metadata": {},
     "output_type": "display_data"
    }
   ],
   "source": [
    "# Create data\n",
    "n_samples = 100\n",
    "n_features = 1\n",
    "n_out_dim = 1\n",
    "true_bias = 100\n",
    "train_X, train_y, true_coef = datasets.make_regression(n_samples=n_samples,\n",
    "                                                  n_features=n_features, \n",
    "                                                  n_targets=n_out_dim,\n",
    "                                                  n_informative=1,\n",
    "                                                  noise=10,\n",
    "                                                  bias=true_bias,\n",
    "                                                  coef=True,\n",
    "                                                  random_state=0)\n",
    "# convert array to 1-dim matrix\n",
    "train_y = train_y.reshape(n_samples,1)\n",
    "plt.scatter(train_X, train_y,  color='black')"
   ]
  },
  {
   "cell_type": "code",
   "execution_count": 14,
   "metadata": {
    "collapsed": false
   },
   "outputs": [
    {
     "name": "stdout",
     "output_type": "stream",
     "text": [
      "Coefficients: a=[[-1.09568465]], b=[ 0.]\n"
     ]
    }
   ],
   "source": [
    "# Define model\n",
    "X = theano.shared(train_X.astype('float32'))\n",
    "y = theano.shared(train_y.astype('float32'))\n",
    "\n",
    "a = theano.shared(np.random.randn(n_features, n_out_dim).astype('float32'), name='a')\n",
    "b = theano.shared(np.zeros(n_out_dim).astype('float32'), name='b')\n",
    "\n",
    "y_hat = X.dot(a) + b\n",
    "loss = T.mean(T.sqr(y-y_hat))\n",
    "\n",
    "\n",
    "# Setup gradient descent\n",
    "da = T.grad(loss, a)\n",
    "db = T.grad(loss, b)\n",
    "\n",
    "epsilon = np.float32(0.01)\n",
    "gradient_step = theano.function([], \n",
    "                                updates=((a, a - epsilon*da),\n",
    "                                         (b, b - epsilon*db)))\n",
    "\n",
    "# define functions in order to access shared variables\n",
    "f_loss = theano.function([], loss)\n",
    "f_y_hat = theano.function([], y_hat)\n",
    "f_a = theano.function([], a)\n",
    "f_b = theano.function([], b)\n",
    "print 'Coefficients: a={}, b={}'.format(f_a(), f_b())"
   ]
  },
  {
   "cell_type": "code",
   "execution_count": 18,
   "metadata": {
    "collapsed": false
   },
   "outputs": [
    {
     "name": "stdout",
     "output_type": "stream",
     "text": [
      "0 loss= 114.17149353\n",
      "100 loss= 114.17149353\n",
      "200 loss= 114.17149353\n",
      "300 loss= 114.17149353\n",
      "400 loss= 114.17149353\n",
      "Model coefficients: a=42.6195335388, b=99.1856231689\n",
      "True coefficients:  a=42.3855048558, b=100\n"
     ]
    }
   ],
   "source": [
    "# build model\n",
    "n_epochs = 500\n",
    "for i in xrange(n_epochs):\n",
    "    gradient_step()\n",
    "    if i % 100 == 0:\n",
    "        print i, 'loss=',f_loss()\n",
    "print 'Model coefficients: a={}, b={}'.format(f_a()[0][0], f_b()[0])\n",
    "print 'True coefficients:  a={}, b={}'.format(true_coef, true_bias)"
   ]
  },
  {
   "cell_type": "code",
   "execution_count": 16,
   "metadata": {
    "collapsed": false
   },
   "outputs": [
    {
     "data": {
      "text/plain": [
       "[<matplotlib.lines.Line2D at 0x7f539d809ad0>]"
      ]
     },
     "execution_count": 16,
     "metadata": {},
     "output_type": "execute_result"
    },
    {
     "data": {
      "image/png": "[encoded data removed]",
      "text/plain": [
       "<matplotlib.figure.Figure at 0x7f539d809310>"
      ]
     },
     "metadata": {},
     "output_type": "display_data"
    }
   ],
   "source": [
    "# plot output\n",
    "plt.scatter(train_X, train_y,  color='b')\n",
    "plt.plot(train_X, f_y_hat(), color='r')"
   ]
  },
  {
   "cell_type": "code",
   "execution_count": null,
   "metadata": {
    "collapsed": true
   },
   "outputs": [],
   "source": []
  }
 ],
 "metadata": {
  "kernelspec": {
   "display_name": "Python 2",
   "language": "python",
   "name": "python2"
  },
  "language_info": {
   "codemirror_mode": {
    "name": "ipython",
    "version": 2
   },
   "file_extension": ".py",
   "mimetype": "text/x-python",
   "name": "python",
   "nbconvert_exporter": "python",
   "pygments_lexer": "ipython2",
   "version": "2.7.11"
  }
 },
 "nbformat": 4,
 "nbformat_minor": 0
}
